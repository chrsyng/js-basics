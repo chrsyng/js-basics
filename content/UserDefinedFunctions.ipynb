{
 "cells": [
  {
   "cell_type": "markdown",
   "metadata": {
    "tags": []
   },
   "source": [
    "# User Defined Functions & Arrow Functions\n",
    "\n",
    "- block of code designed to perform a particular task\n",
    "- function needs to be first defined and then be invoked/called to execute it\n",
    "- used to break large program/problem into smaller sub-programs that can be written, updated and tested independently\n",
    "- aids in code reuse\n",
    "\n",
    "- syntax:\n",
    "```javascript\n",
    "    function name(parameter1, para2, ...) {\n",
    "        // function body\n",
    "    }\n",
    "```\n",
    "- parameters are optional\n",
    "- function name follows the same rules as naming variable names\n",
    "- two step process:\n",
    "    1. define function\n",
    "    2. call function"
   ]
  },
  {
   "cell_type": "code",
   "execution_count": 1,
   "metadata": {
    "editable": true,
    "slideshow": {
     "slide_type": ""
    },
    "tags": []
   },
   "outputs": [],
   "source": [
    "// define a hello world function\n",
    "function sayHello() {\n",
    "    console.log('Hello World');\n",
    "}"
   ]
  },
  {
   "cell_type": "code",
   "execution_count": 2,
   "metadata": {
    "editable": true,
    "slideshow": {
     "slide_type": ""
    },
    "tags": []
   },
   "outputs": [
    {
     "name": "stdout",
     "output_type": "stream",
     "text": [
      "Hello World\n"
     ]
    }
   ],
   "source": [
    "// call sayHello function\n",
    "sayHello();"
   ]
  },
  {
   "cell_type": "code",
   "execution_count": 3,
   "metadata": {
    "tags": []
   },
   "outputs": [],
   "source": [
    "// define a function that returns product of two numbers\n",
    "function product(arg1, arg2) {\n",
    "    return arg1 * arg2;\n",
    "}"
   ]
  },
  {
   "cell_type": "code",
   "execution_count": 4,
   "metadata": {
    "tags": []
   },
   "outputs": [
    {
     "name": "stdout",
     "output_type": "stream",
     "text": [
      "200\n"
     ]
    }
   ],
   "source": [
    "// invoke or call the function by its name\n",
    "let ans = product(10, 20);\n",
    "console.log(ans);"
   ]
  },
  {
   "cell_type": "code",
   "execution_count": 5,
   "metadata": {
    "tags": []
   },
   "outputs": [],
   "source": [
    "// define a function that converts fahrenheit degree into celcius\n",
    "function toCelsius(fahrenheit) {\n",
    "    let celsius = (5/9) * (fahrenheit-32); // celsius is local variable\n",
    "    return celsius;\n",
    "}"
   ]
  },
  {
   "cell_type": "code",
   "execution_count": 6,
   "metadata": {
    "tags": []
   },
   "outputs": [
    {
     "name": "stdout",
     "output_type": "stream",
     "text": [
      "212 deg. fah = 100 deg. c\n"
     ]
    }
   ],
   "source": [
    "const fah = 212;\n",
    "let celsius = toCelsius(fah);\n",
    "console.log(`${fah} deg. fah = ${celsius} deg. c`);"
   ]
  },
  {
   "cell_type": "markdown",
   "metadata": {
    "tags": []
   },
   "source": [
    "### Visualize pass-by-value on pythontutor.com\n",
    "- https://goo.gl/b3jdES\n",
    "- primitive types such as Number and String are passed-by-value"
   ]
  },
  {
   "cell_type": "markdown",
   "metadata": {
    "tags": []
   },
   "source": [
    "## Variable scopes; var and let keywords\n",
    "- variables defined with var keyword have Global and Function/Local Scope base on where they're declared\n",
    "\n",
    " - variables declared Globally (outside any function) have Global Scope\n",
    " - variables declared inside functions with var keyword have local scope\n",
    "- variables declared inside functions with OUT var keyword have global scope\n",
    "- redclaring a let variable, in the same scope, or in the same block, is not allowed"
   ]
  },
  {
   "cell_type": "code",
   "execution_count": null,
   "metadata": {
    "tags": []
   },
   "outputs": [],
   "source": [
    "var name = \"John Doe\"; // global variable\n",
    "// some code here \n",
    "// code here can use name\n",
    "console.log('Before function body, name =', name);\n",
    "function someFunction() {\n",
    "    // code here can use name\n",
    "    // var name = 'Jake Smith'; // local variable name\n",
    "    var name1 = 'Michael Jordan';\n",
    "    var age = 21; // local variable\n",
    "    console.log('inside someFunction name =', name);\n",
    "    console.log('inside someFunction age =', age);\n",
    "    let y = 200;\n",
    "    if (age >= 21) { // block\n",
    "        var x = 10; // local variable\n",
    "        var x = 100; // allowed\n",
    "        let y = 20; // block level scope\n",
    "        //let y = 30; // not allowed\n",
    "    }\n",
    "    console.log('local scope x =', x);\n",
    "    console.log('y =', y); // not allowed; y has block scope like in C++\n",
    "}\n",
    "someFunction();\n",
    "//console.log('name1 =', name1);\n",
    "//console.log('age outside: ', age);\n",
    "console.log('Bye', name);"
   ]
  },
  {
   "cell_type": "markdown",
   "metadata": {
    "tags": []
   },
   "source": [
    "## Visualize scopes in [pythontutor.com](http://pythontutor.com/javascript.html#code=var%20name%20%3D%20%22John%20Doe%22%3B%0Afunction%20someFunction%28%29%20%7B%0A%20%20%20%20var%20name%20%3D%20'Jake%20Smith'%3B%0A%20%20%20%20var%20name1%20%3D%20'Michael%20Jordan'%3B%0A%20%20%20%20var%20age%20%3D%2021%3B%0A%20%20%20%20console.log%28'inside%20someFunction%20name%3D',%20name%29%3B%0A%20%20%20%20console.log%28'inside%20someFunction%20age%3D',%20age%29%3B%0A%20%20%20%20if%20%28age%20%3E%3D%2021%29%20%7B%20//%20block%0A%20%20%20%20%20%20%20%20var%20x%20%3D%2010%3B%0A%20%20%20%20%20%20%20%20var%20x%20%3D%20100%3B%0A%20%20%20%20%20%20%20%20let%20y%20%3D%2020%3B%20//%20block%20level%20scope%0A%20%20%20%20%20%20%20%20//let%20y%20%3D%2030%3B%20//%20not%20allowed%0A%20%20%20%20%20%20%20%20console.log%28x*y%29%3B%0A%20%20%20%20%7D%0A%20%20%20%20console.log%28'local%20scope%20x%20%3D%20',%20x%29%3B%0A%20%20%20%20//console.log%28'y%3D%20',%20y%29%3B%20//%20not%20allwed%20y%20has%20block%20scope%20like%20in%20C%2B%2B%0A%7D%0AsomeFunction%28%29%3B%0A//console.log%28'name1%20%3D%20',%20name1%29%3B%20not%20allowed%0Aconsole.log%28'Bye',%20name%29%3B&curInstr=0&mode=display&origin=opt-frontend.js&py=js&rawInputLstJSON=%5B%5D)"
   ]
  },
  {
   "cell_type": "markdown",
   "metadata": {
    "tags": []
   },
   "source": [
    "## Hoisting\n",
    "- variables declared with var are hoisted to the top\n",
    "- initialized variables are not hoisted\n",
    "- variables declared with let are not hoisted"
   ]
  },
  {
   "cell_type": "code",
   "execution_count": null,
   "metadata": {
    "tags": []
   },
   "outputs": [],
   "source": [
    "player = 'C Ronaldo';\n",
    "console.log(`Hello, ${player}`);\n",
    "var player;\n",
    "console.log(`Hello again ${player}`);"
   ]
  },
  {
   "cell_type": "code",
   "execution_count": null,
   "metadata": {
    "tags": []
   },
   "outputs": [],
   "source": [
    "console.log('Hello,', player1);\n",
    "var player1 = 'Lionel Messi'; // initialized variables are not hoisted"
   ]
  },
  {
   "cell_type": "code",
   "execution_count": null,
   "metadata": {
    "tags": []
   },
   "outputs": [],
   "source": [
    "// throws ReferenceError\n",
    "car = 'Tesla';\n",
    "console.log('Beautiful,', car);\n",
    "let car;"
   ]
  },
  {
   "cell_type": "markdown",
   "metadata": {
    "tags": []
   },
   "source": [
    "## Arrow Functions\n",
    "- also called fat arrow functions; burrowed from CoffeScript\n",
    "- concise syntax for writing function expressions\n",
    "- utilize new token => that looks like fat arrow\n",
    "- also called anonymous functions or lambda functions that are found in other languages such as C++, Python, etc.\n",
    "- no function keyword is required and no return and curley braces, etc.\n",
    "- function can be assigned to variable or constant identifier\n",
    "\n",
    "**syntax:**\n",
    "```javascript  \n",
    "    (arg1, arg2, argN) => expression;\n",
    "```"
   ]
  },
  {
   "cell_type": "code",
   "execution_count": null,
   "metadata": {
    "tags": []
   },
   "outputs": [],
   "source": [
    "// ES5 notation; explicitly use function keyword\n",
    "var product1 = function(x, y) {\n",
    "    return x*y;\n",
    "}\n",
    "console.log(product1(10, 20));"
   ]
  },
  {
   "cell_type": "code",
   "execution_count": null,
   "metadata": {
    "tags": []
   },
   "outputs": [],
   "source": [
    "typeof(product1);"
   ]
  },
  {
   "cell_type": "code",
   "execution_count": null,
   "metadata": {
    "tags": []
   },
   "outputs": [],
   "source": [
    "// ES6 notation\n",
    "var product2 = (x, y) => x * y; // returns product of x and y"
   ]
  },
  {
   "cell_type": "code",
   "execution_count": null,
   "metadata": {
    "tags": []
   },
   "outputs": [],
   "source": [
    "console.log(product2(10, 20));"
   ]
  },
  {
   "cell_type": "code",
   "execution_count": null,
   "metadata": {
    "tags": []
   },
   "outputs": [],
   "source": [
    "typeof(product2);"
   ]
  },
  {
   "cell_type": "markdown",
   "metadata": {
    "tags": []
   },
   "source": [
    "### No Parameter Syntax"
   ]
  },
  {
   "cell_type": "code",
   "execution_count": 3,
   "metadata": {
    "tags": []
   },
   "outputs": [],
   "source": [
    "// no parameters ES5 syntax\n",
    "const hello = function() {\n",
    "    console.log('Hello World');\n",
    "}"
   ]
  },
  {
   "cell_type": "code",
   "execution_count": 4,
   "metadata": {
    "tags": []
   },
   "outputs": [
    {
     "name": "stdout",
     "output_type": "stream",
     "text": [
      "Hello World\n"
     ]
    }
   ],
   "source": [
    "hello();"
   ]
  },
  {
   "cell_type": "code",
   "execution_count": 5,
   "metadata": {
    "tags": []
   },
   "outputs": [
    {
     "data": {
      "text/plain": [
       "'function'"
      ]
     },
     "execution_count": 5,
     "metadata": {},
     "output_type": "execute_result"
    }
   ],
   "source": [
    "typeof(hello);"
   ]
  },
  {
   "cell_type": "code",
   "execution_count": 6,
   "metadata": {
    "tags": []
   },
   "outputs": [],
   "source": [
    "// ES6 syntax\n",
    "let sayHello1 = () => console.log('Hello World');"
   ]
  },
  {
   "cell_type": "code",
   "execution_count": 7,
   "metadata": {
    "tags": []
   },
   "outputs": [
    {
     "name": "stdout",
     "output_type": "stream",
     "text": [
      "Hello World\n"
     ]
    }
   ],
   "source": [
    "sayHello1();"
   ]
  },
  {
   "cell_type": "markdown",
   "metadata": {
    "tags": []
   },
   "source": [
    "### One Parameter Syntax"
   ]
  },
  {
   "cell_type": "code",
   "execution_count": 8,
   "metadata": {
    "tags": []
   },
   "outputs": [],
   "source": [
    "// ES6\n",
    "let val = 'hello world';\n",
    "const upper = strArg => strArg.toUpperCase();"
   ]
  },
  {
   "cell_type": "code",
   "execution_count": 9,
   "metadata": {
    "tags": []
   },
   "outputs": [],
   "source": [
    "let valUpper = upper(val);"
   ]
  },
  {
   "cell_type": "code",
   "execution_count": 10,
   "metadata": {
    "tags": []
   },
   "outputs": [
    {
     "name": "stdout",
     "output_type": "stream",
     "text": [
      "HELLO WORLD\n"
     ]
    }
   ],
   "source": [
    "console.log(valUpper);"
   ]
  },
  {
   "cell_type": "markdown",
   "metadata": {
    "tags": []
   },
   "source": [
    "---\n",
    "\n",
    "\n",
    "## Creating Higher Order Functions\n",
    "- function that takes function as a parameter\n",
    "- most async functions rquire callback function as a argument"
   ]
  },
  {
   "cell_type": "code",
   "execution_count": 7,
   "metadata": {
    "tags": []
   },
   "outputs": [],
   "source": [
    "function add(arg1, callback) {\n",
    "    console.log(`arg1 = ${arg1}`);\n",
    "    if (typeof callback == \"function\") {\n",
    "        callback(10, 20);\n",
    "    }\n",
    "}"
   ]
  },
  {
   "cell_type": "code",
   "execution_count": 8,
   "metadata": {
    "tags": []
   },
   "outputs": [
    {
     "name": "stdout",
     "output_type": "stream",
     "text": [
      "arg1 = some value for arg1\n",
      "10+20 = 30\n"
     ]
    }
   ],
   "source": [
    "add('some value for arg1', (a, b) => {\n",
    "    console.log(`${a}+${b} = ${a+b}`);\n",
    "});"
   ]
  },
  {
   "cell_type": "code",
   "execution_count": 9,
   "metadata": {},
   "outputs": [
    {
     "name": "stdout",
     "output_type": "stream",
     "text": [
      "arg1 = some value for arg1\n",
      "10+20 = 30\n"
     ]
    }
   ],
   "source": [
    "// Define a function called add which takes two parameters: arg1 and callback\n",
    "function add(arg1, callback) {\n",
    "    // Log the value of arg1 to the console\n",
    "    console.log(`arg1 = ${arg1}`);\n",
    "    \n",
    "    // Check if the callback parameter is a function\n",
    "    if (typeof callback == \"function\") {\n",
    "        // Call the callback function with arguments 10 and 20\n",
    "        callback(10, 20); // line 4\n",
    "    }\n",
    "}\n",
    "\n",
    "// Call the add function with a string and an arrow function as arguments\n",
    "add('some value for arg1', (a, b) => { // line 8\n",
    "    // Inside the arrow function, log the sum of a and b\n",
    "    console.log(`${a}+${b} = ${a+b}`); // line 9\n",
    "});"
   ]
  }
 ],
 "metadata": {
  "jupytext": {
   "formats": "ipynb,md:myst"
  },
  "kernelspec": {
   "display_name": "JavaScript (Node.js)",
   "language": "javascript",
   "name": "javascript"
  },
  "language_info": {
   "file_extension": ".js",
   "mimetype": "application/javascript",
   "name": "javascript",
   "version": "18.19.1"
  }
 },
 "nbformat": 4,
 "nbformat_minor": 4
}
